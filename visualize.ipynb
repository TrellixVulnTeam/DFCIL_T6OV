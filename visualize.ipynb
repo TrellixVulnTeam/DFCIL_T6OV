{
 "cells": [
  {
   "cell_type": "code",
   "execution_count": 1,
   "metadata": {},
   "outputs": [],
   "source": [
    "\n",
    "class AverageMeter(object):\n",
    "    \"\"\"Computes and stores the average and current value\"\"\"\n",
    "\n",
    "    def __init__(self):\n",
    "        self.reset()\n",
    "\n",
    "    def reset(self):\n",
    "        self.val = 0\n",
    "        self.avg = 0\n",
    "        self.sum = 0\n",
    "        self.count = 0\n",
    "\n",
    "    def update(self, val, n=1):\n",
    "        if n > 0:\n",
    "            self.val = val\n",
    "            self.sum += val * n\n",
    "            self.count += n\n",
    "            self.avg = float(self.sum) / self.count\n",
    "\n",
    "    def update_count(self, multiplier):\n",
    "        self.count = self.count * multiplier\n",
    "        self.avg = float(self.sum) / self.count\n"
   ]
  },
  {
   "cell_type": "code",
   "execution_count": 12,
   "metadata": {},
   "outputs": [],
   "source": [
    "root_dir='../file_zila/'\n",
    "\n",
    "import matplotlib.pyplot as plt\n",
    "import seaborn as sns\n",
    "import pandas as pd\n",
    "import numpy as np\n",
    "import os\n",
    "import torch\n",
    "from torchvision import transforms\n",
    "from OrigianlABD.models.resnet import resnet32\n",
    "import gpytorch\n",
    "# gpytorch.mlls.ExactMarginalLogLikelihood()\n",
    "\n",
    "class AverageMeter(object):\n",
    "    \"\"\"Computes and stores the average and current value\"\"\"\n",
    "\n",
    "    def __init__(self):\n",
    "        self.reset()\n",
    "\n",
    "    def reset(self):\n",
    "        self.val = 0\n",
    "        self.avg = 0\n",
    "        self.sum = 0\n",
    "        self.count = 0\n",
    "\n",
    "    def update(self, val, n=1):\n",
    "        if n > 0:\n",
    "            self.val = val\n",
    "            self.sum += val * n\n",
    "            self.count += n\n",
    "            self.avg = float(self.sum) / self.count\n",
    "\n",
    "    def update_count(self, multiplier):\n",
    "        self.count = self.count * multiplier\n",
    "        self.avg = float(self.sum) / self.count\n",
    "\n",
    "def scores_from_path(before_shuffle,save_path,repeat=1):\n",
    "        \n",
    "    dataset_stats = {\n",
    "        'CIFAR10' : {'mean': (0.49139967861519607, 0.48215840839460783, 0.44653091444546567),\n",
    "                    'std' : (0.2470322324632819, 0.24348512800005573, 0.26158784172796434),\n",
    "                    'size' : 32},\n",
    "        'CIFAR100': {'mean': (0.5070751592371323, 0.48654887331495095, 0.4409178433670343),\n",
    "                    'std' : (0.2673342858792409, 0.25643846291708816, 0.2761504713256834),\n",
    "                    'size' : 32},   \n",
    "        'ImageNet': {'mean': (0.485, 0.456, 0.406),\n",
    "                    'std' : (0.229, 0.224, 0.225),\n",
    "                    'size' : 224},      \n",
    "        'TinyImageNet': {'mean': (0.4389, 0.4114, 0.3682),\n",
    "                    'std' : (0.2402, 0.2350, 0.2268),\n",
    "                    'size' : 64},  \n",
    "                    }\n",
    "\n",
    "    mean=dataset_stats['CIFAR100']['mean']\n",
    "    std=dataset_stats['CIFAR100']['std']\n",
    "    test_transforms=transforms.Compose([\n",
    "                transforms.ToTensor(),\n",
    "                transforms.Normalize(mean, std),\n",
    "                                ])\n",
    "\n",
    "\n",
    "    def accuracy(output, target, topk=(1,)):\n",
    "        \"\"\"Computes the precision@k for the specified values of k\"\"\"\n",
    "        with torch.no_grad():\n",
    "            maxk = max(topk)\n",
    "            batch_size = target.size(0)\n",
    "\n",
    "            _, pred = output.topk(maxk, 1, True, True)\n",
    "            pred = pred.t()\n",
    "            correct = pred.eq(target.view(1, -1).expand_as(pred))\n",
    "\n",
    "            res = []\n",
    "            for k in topk:\n",
    "                correct_k = correct[:k].view(-1).float().sum().item()\n",
    "                res.append(correct_k*100.0 / batch_size)\n",
    "\n",
    "            if len(res)==1:\n",
    "                return res[0]\n",
    "            else:\n",
    "                return res\n",
    "    from torchvision import datasets\n",
    "    dataset_path=os.path.join('../data/dataset/cifar100/')\n",
    "    test_data = datasets.CIFAR100(root=dataset_path, train=False,\n",
    "                                    download=False, transform=test_transforms)\n",
    "    bsz=100\n",
    "    subsets = {target: torch.utils.data.Subset(test_data, (np.array(test_data.targets)==target).nonzero()[0]) for target in range(100)}\n",
    "    testloader = {target: torch.utils.data.DataLoader(subset,batch_size=bsz) for target, subset in subsets.items()}\n",
    "\n",
    "    our_model=resnet32(100)\n",
    "    # our_model.load_state_dict(torch.load(os.path.join(ours_ids,'class.pth'),map_location='cpu'))\n",
    "    our_model.load_state_dict(torch.load(os.path.join(save_path,'class_{}.pth'.format(repeat)),map_location='cpu'))\n",
    "    # our_model.load_state_dict(torch.load(os.path.join(abd_ids,'class.pth'),map_location='cpu'))\n",
    "    our_model.eval()\n",
    "    our_model.to('cuda')\n",
    "\n",
    "    # abd_model.load_state_dict(torch.load(abd_path+'class.pth'))\n",
    "    #print(\"our model\", tbd_model)\n",
    "    import torch.nn as nn\n",
    "    y_true = []\n",
    "    y_pred_abd = []\n",
    "    y_pred_tbd = []\n",
    "    m = nn.Softmax(dim=1)\n",
    "    loss=nn.NLLLoss(reduction='none')\n",
    "    # accs=AverageMeter()\n",
    "    # dict_list={}\n",
    "    accs=AverageMeter()\n",
    "    inc=0\n",
    "\n",
    "    scores=[]\n",
    "    for cls_idx in range(100):\n",
    "        scores.append(AverageMeter())\n",
    "    for i in range(100): #total class num\n",
    "        # result = 0.0\n",
    "        for batch_idx, (inputs, targets) in enumerate(testloader[int(i)]):#NLL calcuate by same class group\n",
    "            with torch.no_grad():\n",
    "                inputs, targets = inputs.cuda(), targets.cuda()\n",
    "                output_tbd = our_model(inputs)\n",
    "                before_shuffle=before_shuffle.expand(output_tbd.shape[0],output_tbd.shape[1])\n",
    "                outputs=torch.gather(output_tbd,1,before_shuffle)#indexing\n",
    "\n",
    "                outputs=m(outputs)\n",
    "                score=outputs.sum(dim=0)\n",
    "                # print(score.sum())\n",
    "\n",
    "                # if i==1:\n",
    "                #     print(outputs.argmax(dim=1))\n",
    "                #     print(i,targets)\n",
    "                #     raise NotImplementedError\n",
    "                # result += -loss(output_tbd,targets)\n",
    "                # result += -loss(m(torch.gather(output_tbd,1,a)),targets)\n",
    "                # result += -loss(m(outputs),targets).sum()\n",
    "            # print(\"NLL value per \",i,\"-th class :\", result.item())\n",
    "\n",
    "            acc = accuracy(outputs.detach(),targets)\n",
    "            accs.update(acc,inputs.size(0))\n",
    "            for cls_idx in range(100):\n",
    "                scores[cls_idx].update(score[cls_idx],inputs.size(0))\n",
    "        # dict_list[i]=result.item()\n",
    "        print(\"\\r{:3d}/{:3d}\".format(inc,100),end='')\n",
    "        inc+=1\n",
    "\n",
    "    for cls_idx in range(100):\n",
    "        scores[cls_idx]=scores[cls_idx].sum\n",
    "    return scores"
   ]
  },
  {
   "cell_type": "code",
   "execution_count": 62,
   "metadata": {},
   "outputs": [
    {
     "name": "stdout",
     "output_type": "stream",
     "text": [
      " 99/100\n",
      "di\n",
      "STD: 0.02883109996219079\n"
     ]
    },
    {
     "data": {
      "image/png": "[encoded data removed]",
      "text/plain": [
       "<Figure size 432x288 with 1 Axes>"
      ]
     },
     "metadata": {
      "needs_background": "light"
     },
     "output_type": "display_data"
    }
   ],
   "source": [
    "# DI\n",
    "post_shuffle=torch.tensor([23, 8, 11, 7, 48, 13, 1, 91, 94, 54, 16, 63, 52, 41, 80, 2, 47, 87, 78, 66, 19, 6, 24, 10, 59, 30, 22, 29, 83, 37, 93, 81, 43, 99, 86, 28, 34, 88, 44, 14, 84, 70, 4, 20, 15, 21, 31, 76, 57, 67, 73, 50, 69, 25, 98, 46, 96, 0, 72, 35, 58, 92, 3, 95, 56, 90, 26, 40, 55, 89, 75, 71, 60, 42, 9, 82, 39, 18, 77, 68, 32, 79, 12, 85, 36, 17, 64, 27, 74, 45, 61, 38, 51, 62, 65, 33, 5, 53, 97, 49]) # abds\n",
    "before_list=[]\n",
    "for xi in range(100):\n",
    "    before_list.append((post_shuffle==xi).nonzero().item())\n",
    "before_shuffle=torch.tensor(before_list).to('cuda').unsqueeze(0)\n",
    "\n",
    "\n",
    "di_path=os.path.join(root_dir,'di_task-10')\n",
    "if not os.path.exists(di_path):\n",
    "    raise NotADirectoryError\n",
    "scores=scores_from_path(before_shuffle,di_path)\n",
    "arr2_DI=np.array(torch.tensor(scores).cpu().numpy()/1000000)#[before_list]\n",
    "\n",
    "# plt.ylim (0,0.03)\n",
    "print(\"\\ndi\")\n",
    "print(\"STD: {}\".format(arr2_DI.std()))\n",
    "\n",
    "plt.plot([0,100],[0.01,0.01],color='r')\n",
    "plt.scatter(before_list,arr2_DI)\n",
    "plt.savefig(os.path.join(di_path,'scatter_DI.pdf'))"
   ]
  },
  {
   "cell_type": "code",
   "execution_count": 59,
   "metadata": {},
   "outputs": [
    {
     "name": "stdout",
     "output_type": "stream",
     "text": [
      " 99/100\n",
      "abd\n",
      "STD: 0.004232503027742935\n"
     ]
    },
    {
     "data": {
      "text/plain": [
       "<matplotlib.collections.PathCollection at 0x293b6755a30>"
      ]
     },
     "execution_count": 59,
     "metadata": {},
     "output_type": "execute_result"
    },
    {
     "data": {
      "image/png": "[encoded data removed]",
      "text/plain": [
       "<Figure size 432x288 with 1 Axes>"
      ]
     },
     "metadata": {
      "needs_background": "light"
     },
     "output_type": "display_data"
    }
   ],
   "source": [
    "# ABD\n",
    "post_shuffle=torch.tensor([23, 8, 11, 7, 48, 13, 1, 91, 94, 54, 16, 63, 52, 41, 80, 2, 47, 87, 78, 66, 19, 6, 24, 10, 59, 30, 22, 29, 83, 37, 93, 81, 43, 99, 86, 28, 34, 88, 44, 14, 84, 70, 4, 20, 15, 21, 31, 76, 57, 67, 73, 50, 69, 25, 98, 46, 96, 0, 72, 35, 58, 92, 3, 95, 56, 90, 26, 40, 55, 89, 75, 71, 60, 42, 9, 82, 39, 18, 77, 68, 32, 79, 12, 85, 36, 17, 64, 27, 74, 45, 61, 38, 51, 62, 65, 33, 5, 53, 97, 49]) # abds\n",
    "before_list=[]\n",
    "for xi in range(100):\n",
    "    before_list.append((post_shuffle==xi).nonzero().item())\n",
    "before_shuffle=torch.tensor(before_list).to('cuda').unsqueeze(0)\n",
    "abd_path=os.path.join(root_dir,'abd_task-10')\n",
    "if not os.path.exists(abd_path):\n",
    "    raise NotADirectoryError\n",
    "scores=scores_from_path(before_shuffle,abd_path,1)\n",
    "arr2_abd=np.array(torch.tensor(scores).cpu().numpy()/1000000)#[before_list]\n",
    "print(\"\\nabd\")\n",
    "print(\"STD: {}\".format(arr2_abd.std()))\n",
    "plt.ylim (0,0.03)\n",
    "plt.plot([0,100],[0.01,0.01],color='r')\n",
    "plt.scatter(before_list,arr2_abd)"
   ]
  },
  {
   "cell_type": "code",
   "execution_count": 58,
   "metadata": {},
   "outputs": [
    {
     "name": "stdout",
     "output_type": "stream",
     "text": [
      " 99/100\n",
      "lwf\n",
      "STD: 0.03162523716722005\n"
     ]
    },
    {
     "data": {
      "text/plain": [
       "<matplotlib.collections.PathCollection at 0x293b67b37f0>"
      ]
     },
     "execution_count": 58,
     "metadata": {},
     "output_type": "execute_result"
    },
    {
     "data": {
      "image/png": "[encoded data removed]",
      "text/plain": [
       "<Figure size 432x288 with 1 Axes>"
      ]
     },
     "metadata": {
      "needs_background": "light"
     },
     "output_type": "display_data"
    }
   ],
   "source": [
    "\n",
    "#lwf\n",
    "post_shuffle=torch.tensor([23, 8, 11, 7, 48, 13, 1, 91, 94, 54, 16, 63, 52, 41, 80, 2, 47, 87, 78, 66, 19, 6, 24, 10, 59, 30, 22, 29, 83, 37, 93, 81, 43, 99, 86, 28, 34, 88, 44, 14, 84, 70, 4, 20, 15, 21, 31, 76, 57, 67, 73, 50, 69, 25, 98, 46, 96, 0, 72, 35, 58, 92, 3, 95, 56, 90, 26, 40, 55, 89, 75, 71, 60, 42, 9, 82, 39, 18, 77, 68, 32, 79, 12, 85, 36, 17, 64, 27, 74, 45, 61, 38, 51, 62, 65, 33, 5, 53, 97, 49]) # abds\n",
    "before_list=[]\n",
    "for xi in range(100):\n",
    "    before_list.append((post_shuffle==xi).nonzero().item())\n",
    "before_shuffle=torch.tensor(before_list).to('cuda').unsqueeze(0)\n",
    "lwf_path=os.path.join(root_dir,'lwf_task-10')\n",
    "if not os.path.exists(lwf_path):\n",
    "    raise NotADirectoryError\n",
    "scores=scores_from_path(before_shuffle,lwf_path)\n",
    "arr2_lwf=np.array(torch.tensor(scores).cpu().numpy()/1000000)#[before_list]\n",
    "print(\"\\nlwf\")\n",
    "\n",
    "print(\"STD: {}\".format(arr2_lwf.std()))\n",
    "# plt.ylim (0,0.03)\n",
    "plt.plot([0,100],[0.01,0.01],color='r')\n",
    "plt.scatter(before_list,arr2_lwf)"
   ]
  },
  {
   "cell_type": "code",
   "execution_count": 57,
   "metadata": {},
   "outputs": [
    {
     "name": "stdout",
     "output_type": "stream",
     "text": [
      " 99/100\n",
      "Ours\n",
      "STD: 0.0027423394404068853\n"
     ]
    },
    {
     "data": {
      "text/plain": [
       "<matplotlib.collections.PathCollection at 0x293b6777910>"
      ]
     },
     "execution_count": 57,
     "metadata": {},
     "output_type": "execute_result"
    },
    {
     "data": {
      "image/png": "[encoded data removed]",
      "text/plain": [
       "<Figure size 432x288 with 1 Axes>"
      ]
     },
     "metadata": {
      "needs_background": "light"
     },
     "output_type": "display_data"
    }
   ],
   "source": [
    "#ours\n",
    "post_shuffle=torch.tensor([23, 8, 11, 7, 48, 13, 1, 91, 94, 54, 16, 63, 52, 41, 80, 2, 47, 87, 78, 66, 19, 6, 24, 10, 59, 30, 22, 29, 83, 37, 93, 81, 43, 99, 86, 28, 34, 88, 44, 14, 84, 70, 4, 20, 15, 21, 31, 76, 57, 67, 73, 50, 69, 25, 98, 46, 96, 0, 72, 35, 58, 92, 3, 95, 56, 90, 26, 40, 55, 89, 75, 71, 60, 42, 9, 82, 39, 18, 77, 68, 32, 79, 12, 85, 36, 17, 64, 27, 74, 45, 61, 38, 51, 62, 65, 33, 5, 53, 97, 49]) # abds\n",
    "\n",
    "before_list=[]\n",
    "for xi in range(100):\n",
    "    before_list.append((post_shuffle==xi).nonzero().item())\n",
    "before_shuffle=torch.tensor(before_list).to('cuda').unsqueeze(0)\n",
    "ours_path=os.path.join(root_dir,'ours_task-10')\n",
    "if not os.path.exists(ours_path):\n",
    "    raise NotADirectoryError\n",
    "scores=scores_from_path(before_shuffle,ours_path,243)# 243\n",
    "\n",
    "arr2_ours=np.array(torch.tensor(scores).cpu().numpy()/1000000)#[before_list]\n",
    "print(\"\\nOurs\")\n",
    "print(\"STD: {}\".format(arr2_ours.std()))\n",
    "plt.ylim (0,0.03)\n",
    "plt.plot([0,100],[0.01,0.01],color='r')\n",
    "plt.scatter(before_list,arr2_ours)"
   ]
  },
  {
   "cell_type": "code",
   "execution_count": null,
   "metadata": {},
   "outputs": [],
   "source": []
  }
 ],
 "metadata": {
  "kernelspec": {
   "display_name": "Python 3.8.10 ('bench')",
   "language": "python",
   "name": "python3"
  },
  "language_info": {
   "codemirror_mode": {
    "name": "ipython",
    "version": 3
   },
   "file_extension": ".py",
   "mimetype": "text/x-python",
   "name": "python",
   "nbconvert_exporter": "python",
   "pygments_lexer": "ipython3",
   "version": "3.8.10"
  },
  "orig_nbformat": 4,
  "vscode": {
   "interpreter": {
    "hash": "6bf6bd07d838b671e813a4a553243593aaa58fd8675a617ad6df8a6d9661ed80"
   }
  }
 },
 "nbformat": 4,
 "nbformat_minor": 2
}
