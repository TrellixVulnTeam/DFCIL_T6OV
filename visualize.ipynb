{
 "cells": [
  {
   "cell_type": "code",
   "execution_count": 9,
   "metadata": {},
   "outputs": [
    {
     "data": {
      "text/plain": [
       "dict_keys(['info', 'model', 'task4_bic_model_0', 'task4_bic_model_1', 'task4_bic_model_2'])"
      ]
     },
     "execution_count": 9,
     "metadata": {},
     "output_type": "execute_result"
    }
   ],
   "source": [
    "import torch\n",
    "a=torch.load('./RelatedWork/outputs/07-22_01-48-49/best_task4_bias_corrected_model.pt')\n",
    "a.keys()"
   ]
  },
  {
   "cell_type": "code",
   "execution_count": 11,
   "metadata": {},
   "outputs": [
    {
     "name": "stdout",
     "output_type": "stream",
     "text": [
      "OrderedDict([('alpha', tensor([0.5240], device='cuda:0')), ('beta', tensor([1.6581], device='cuda:0'))])\n",
      "OrderedDict([('alpha', tensor([0.6998], device='cuda:0')), ('beta', tensor([-0.4520], device='cuda:0'))])\n"
     ]
    }
   ],
   "source": [
    "print(a['task4_bic_model_1'])\n",
    "print(a['task4_bic_model_2'])"
   ]
  }
 ],
 "metadata": {
  "kernelspec": {
   "display_name": "Python 3.8.13 ('bench')",
   "language": "python",
   "name": "python3"
  },
  "language_info": {
   "codemirror_mode": {
    "name": "ipython",
    "version": 3
   },
   "file_extension": ".py",
   "mimetype": "text/x-python",
   "name": "python",
   "nbconvert_exporter": "python",
   "pygments_lexer": "ipython3",
   "version": "3.8.13"
  },
  "orig_nbformat": 4,
  "vscode": {
   "interpreter": {
    "hash": "b4470a91fcb067a46a4160f683323d34b177fb2ea4a203911da8a440480ca43d"
   }
  }
 },
 "nbformat": 4,
 "nbformat_minor": 2
}
